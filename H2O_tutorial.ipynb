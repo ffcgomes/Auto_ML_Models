{
  "nbformat": 4,
  "nbformat_minor": 0,
  "metadata": {
    "colab": {
      "name": "H2O_tutorial.ipynb",
      "provenance": []
    },
    "kernelspec": {
      "name": "python3",
      "display_name": "Python 3"
    }
  },
  "cells": [
    {
      "cell_type": "markdown",
      "metadata": {
        "id": "Il73YZzIO4Vp"
      },
      "source": [
        "\n",
        "#H2O AutoML Regression Demo\n",
        "##This is a Jupyter Notebook. When you execute code within the notebook, the results appear beneath the code. To execute a code chunk, place your cursor on the cell and press Shift+Enter.\n",
        "\n",
        "#Start H2O\n",
        "##Import the h2o Python module and H2OAutoML class and initialize a local H2O cluster."
      ]
    },
    {
      "cell_type": "code",
      "metadata": {
        "colab": {
          "base_uri": "https://localhost:8080/",
          "height": 480
        },
        "id": "AOlhVwa7Ou7D",
        "outputId": "8a2614de-0844-425a-8581-3f35033191e0"
      },
      "source": [
        "!pip install h2o\n",
        "import h2o\n",
        "from h2o.automl import H2OAutoML\n",
        "h2o.init()"
      ],
      "execution_count": 7,
      "outputs": [
        {
          "output_type": "stream",
          "text": [
            "Requirement already satisfied: h2o in /usr/local/lib/python3.6/dist-packages (3.32.0.2)\n",
            "Requirement already satisfied: future in /usr/local/lib/python3.6/dist-packages (from h2o) (0.16.0)\n",
            "Requirement already satisfied: tabulate in /usr/local/lib/python3.6/dist-packages (from h2o) (0.8.7)\n",
            "Requirement already satisfied: colorama>=0.3.8 in /usr/local/lib/python3.6/dist-packages (from h2o) (0.4.4)\n",
            "Requirement already satisfied: requests in /usr/local/lib/python3.6/dist-packages (from h2o) (2.23.0)\n",
            "Requirement already satisfied: urllib3!=1.25.0,!=1.25.1,<1.26,>=1.21.1 in /usr/local/lib/python3.6/dist-packages (from requests->h2o) (1.24.3)\n",
            "Requirement already satisfied: certifi>=2017.4.17 in /usr/local/lib/python3.6/dist-packages (from requests->h2o) (2020.11.8)\n",
            "Requirement already satisfied: idna<3,>=2.5 in /usr/local/lib/python3.6/dist-packages (from requests->h2o) (2.10)\n",
            "Requirement already satisfied: chardet<4,>=3.0.2 in /usr/local/lib/python3.6/dist-packages (from requests->h2o) (3.0.4)\n",
            "Checking whether there is an H2O instance running at http://localhost:54321 . connected.\n"
          ],
          "name": "stdout"
        },
        {
          "output_type": "display_data",
          "data": {
            "text/html": [
              "<div style=\"overflow:auto\"><table style=\"width:50%\"><tr><td>H2O_cluster_uptime:</td>\n",
              "<td>14 mins 14 secs</td></tr>\n",
              "<tr><td>H2O_cluster_timezone:</td>\n",
              "<td>Etc/UTC</td></tr>\n",
              "<tr><td>H2O_data_parsing_timezone:</td>\n",
              "<td>UTC</td></tr>\n",
              "<tr><td>H2O_cluster_version:</td>\n",
              "<td>3.32.0.2</td></tr>\n",
              "<tr><td>H2O_cluster_version_age:</td>\n",
              "<td>13 days </td></tr>\n",
              "<tr><td>H2O_cluster_name:</td>\n",
              "<td>H2O_from_python_unknownUser_q2k8d0</td></tr>\n",
              "<tr><td>H2O_cluster_total_nodes:</td>\n",
              "<td>1</td></tr>\n",
              "<tr><td>H2O_cluster_free_memory:</td>\n",
              "<td>3.179 Gb</td></tr>\n",
              "<tr><td>H2O_cluster_total_cores:</td>\n",
              "<td>2</td></tr>\n",
              "<tr><td>H2O_cluster_allowed_cores:</td>\n",
              "<td>2</td></tr>\n",
              "<tr><td>H2O_cluster_status:</td>\n",
              "<td>locked, healthy</td></tr>\n",
              "<tr><td>H2O_connection_url:</td>\n",
              "<td>http://localhost:54321</td></tr>\n",
              "<tr><td>H2O_connection_proxy:</td>\n",
              "<td>{\"http\": null, \"https\": null}</td></tr>\n",
              "<tr><td>H2O_internal_security:</td>\n",
              "<td>False</td></tr>\n",
              "<tr><td>H2O_API_Extensions:</td>\n",
              "<td>Amazon S3, XGBoost, Algos, AutoML, Core V3, TargetEncoder, Core V4</td></tr>\n",
              "<tr><td>Python_version:</td>\n",
              "<td>3.6.9 final</td></tr></table></div>"
            ],
            "text/plain": [
              "--------------------------  ------------------------------------------------------------------\n",
              "H2O_cluster_uptime:         14 mins 14 secs\n",
              "H2O_cluster_timezone:       Etc/UTC\n",
              "H2O_data_parsing_timezone:  UTC\n",
              "H2O_cluster_version:        3.32.0.2\n",
              "H2O_cluster_version_age:    13 days\n",
              "H2O_cluster_name:           H2O_from_python_unknownUser_q2k8d0\n",
              "H2O_cluster_total_nodes:    1\n",
              "H2O_cluster_free_memory:    3.179 Gb\n",
              "H2O_cluster_total_cores:    2\n",
              "H2O_cluster_allowed_cores:  2\n",
              "H2O_cluster_status:         locked, healthy\n",
              "H2O_connection_url:         http://localhost:54321\n",
              "H2O_connection_proxy:       {\"http\": null, \"https\": null}\n",
              "H2O_internal_security:      False\n",
              "H2O_API_Extensions:         Amazon S3, XGBoost, Algos, AutoML, Core V3, TargetEncoder, Core V4\n",
              "Python_version:             3.6.9 final\n",
              "--------------------------  ------------------------------------------------------------------"
            ]
          },
          "metadata": {
            "tags": []
          }
        }
      ]
    },
    {
      "cell_type": "markdown",
      "metadata": {
        "id": "bMURgfvRQdMs"
      },
      "source": [
        "\n",
        "#Load Data\n",
        "##For the AutoML regression demo, we use the Combined Cycle Power Plant dataset. The goal here is to predict the energy output (in megawatts), given the temperature, ambient pressure, relative humidity and exhaust vacuum values. In this demo, you will use H2O's AutoML to outperform the state of the art results on this task."
      ]
    },
    {
      "cell_type": "code",
      "metadata": {
        "colab": {
          "base_uri": "https://localhost:8080/"
        },
        "id": "StfLvrjIQX1A",
        "outputId": "5183d3fa-5d22-48bf-b734-d6ccd0b07cda"
      },
      "source": [
        "# Use local data file or download from GitHub\n",
        "import os\n",
        "docker_data_path = \"/home/h2o/data/automl/powerplant_output.csv\"\n",
        "if os.path.isfile(docker_data_path):\n",
        "  data_path = docker_data_path\n",
        "else:\n",
        "  data_path = \"https://github.com/h2oai/h2o-tutorials/raw/master/h2o-world-2017/automl/data/powerplant_output.csv\"\n",
        "\n",
        "\n",
        "# Load data into H2O\n",
        "df = h2o.import_file(data_path)"
      ],
      "execution_count": 8,
      "outputs": [
        {
          "output_type": "stream",
          "text": [
            "Parse progress: |█████████████████████████████████████████████████████████| 100%\n"
          ],
          "name": "stdout"
        }
      ]
    },
    {
      "cell_type": "markdown",
      "metadata": {
        "id": "ozrpGEJSQ6OE"
      },
      "source": [
        "Next, let's identify the response column and save the column name as y. In this dataset, we will use all columns except the response as predictors, so we can skip setting the x argument explicitly.\n",
        "\n",
        "\n"
      ]
    },
    {
      "cell_type": "code",
      "metadata": {
        "id": "vi-cMfaYQ8DI"
      },
      "source": [
        "y = \"HourlyEnergyOutputMW\"\n"
      ],
      "execution_count": 9,
      "outputs": []
    },
    {
      "cell_type": "markdown",
      "metadata": {
        "id": "83J12GhSRDbE"
      },
      "source": [
        "Lastly, let's split the data into two frames, a train (80%) and a test frame (20%). The test frame will be used to score the leaderboard and to demonstrate how to generate predictions using an AutoML leader model.\n",
        "\n"
      ]
    },
    {
      "cell_type": "code",
      "metadata": {
        "id": "MeubawmZQ-JQ"
      },
      "source": [
        "\n",
        "splits = df.split_frame(ratios = [0.8], seed = 1)\n",
        "train = splits[0]\n",
        "test = splits[1]"
      ],
      "execution_count": 10,
      "outputs": []
    },
    {
      "cell_type": "markdown",
      "metadata": {
        "id": "XWEaBLK5RXZ7"
      },
      "source": [
        "#Run AutoML\n",
        "##Run AutoML, stopping after 60 seconds. The max_runtime_secs argument provides a way to limit the AutoML run by time. When using a time-limited stopping criterion, the number of models train will vary between runs. If different hardware is used or even if the same machine is used but the available compute resources on that machine are not the same between runs, then AutoML may be able to train more models on one run vs another.\n",
        "\n",
        "##The test frame is passed explicitly to the leaderboard_frame argument here, which means that instead of using cross-validated metrics, we use test set metrics for generating the leaderboard."
      ]
    },
    {
      "cell_type": "code",
      "metadata": {
        "colab": {
          "base_uri": "https://localhost:8080/"
        },
        "id": "8IISzCRgRLN_",
        "outputId": "bd38e060-d712-4b15-a164-409c1776a347"
      },
      "source": [
        "aml = H2OAutoML(max_runtime_secs = 60, seed = 1, project_name = \"powerplant_lb_frame\")\n",
        "aml.train(y = y, training_frame = train, leaderboard_frame = test)"
      ],
      "execution_count": 11,
      "outputs": [
        {
          "output_type": "stream",
          "text": [
            "AutoML progress: |████████████████████████████████████████████████████████| 100%\n"
          ],
          "name": "stdout"
        }
      ]
    },
    {
      "cell_type": "markdown",
      "metadata": {
        "id": "MOfTbporRsUo"
      },
      "source": [
        "##For demonstration purposes, we will also execute a second AutoML run, this time providing the original, full dataset, df (without passing a leaderboard_frame). This is a more efficient use of our data since we can use 100% of the data for training, rather than 80% like we did above. This time our leaderboard will use cross-validated metrics.\n",
        "\n",
        "##Note: Using an explicit leaderboard_frame for scoring may be useful in some cases, which is why the option is available."
      ]
    },
    {
      "cell_type": "code",
      "metadata": {
        "colab": {
          "base_uri": "https://localhost:8080/"
        },
        "id": "7l5WIXVURvch",
        "outputId": "4a312095-016f-4680-ffa4-59ed914004d2"
      },
      "source": [
        "\n",
        "aml2 = H2OAutoML(max_runtime_secs = 60, seed = 1, project_name = \"powerplant_full_data\")\n",
        "aml2.train(y = y, training_frame = df)"
      ],
      "execution_count": 12,
      "outputs": [
        {
          "output_type": "stream",
          "text": [
            "AutoML progress: |████████████████████████████████████████████████████████| 100%\n"
          ],
          "name": "stdout"
        }
      ]
    },
    {
      "cell_type": "markdown",
      "metadata": {
        "id": "-wet107TR5Kn"
      },
      "source": [
        "#Leaderboard\n",
        "##Next, we will view the AutoML Leaderboard. Since we specified a leaderboard_frame in the H2OAutoML.train() method for scoring and ranking the models, the AutoML leaderboard uses the performance on this data to rank the models.\n",
        "\n",
        "#After viewing the \"powerplant_lb_frame\" AutoML project leaderboard, we compare that to the leaderboard for the \"powerplant_full_data\" project. We can see that the results are better when the full dataset is used for training.\n",
        "\n",
        "#A default performance metric for each machine learning task (binary classification, multiclass classification, regression) is specified internally and the leaderboard will be sorted by that metric. In the case of regression, the default ranking metric is mean residual deviance. In the future, the user will be able to specify any of the H2O metrics so that different metrics can be used to generate rankings on the leaderboard."
      ]
    },
    {
      "cell_type": "code",
      "metadata": {
        "colab": {
          "base_uri": "https://localhost:8080/",
          "height": 213
        },
        "id": "kZ5R7LV8R-3E",
        "outputId": "34c482f4-779d-4847-8803-aeb5a7b66f6d"
      },
      "source": [
        "aml.leaderboard.head()\n"
      ],
      "execution_count": 13,
      "outputs": [
        {
          "output_type": "display_data",
          "data": {
            "text/html": [
              "<table>\n",
              "<thead>\n",
              "<tr><th>model_id                                           </th><th style=\"text-align: right;\">  mean_residual_deviance</th><th style=\"text-align: right;\">   rmse</th><th style=\"text-align: right;\">    mse</th><th style=\"text-align: right;\">    mae</th><th style=\"text-align: right;\">     rmsle</th></tr>\n",
              "</thead>\n",
              "<tbody>\n",
              "<tr><td>XGBoost_grid__1_AutoML_20201130_175338_model_1     </td><td style=\"text-align: right;\">                 11.7239</td><td style=\"text-align: right;\">3.42402</td><td style=\"text-align: right;\">11.7239</td><td style=\"text-align: right;\">2.34031</td><td style=\"text-align: right;\">0.00751901</td></tr>\n",
              "<tr><td>XGBoost_grid__1_AutoML_20201130_175338_model_2     </td><td style=\"text-align: right;\">                 14.4416</td><td style=\"text-align: right;\">3.80021</td><td style=\"text-align: right;\">14.4416</td><td style=\"text-align: right;\">2.76009</td><td style=\"text-align: right;\">0.0083476 </td></tr>\n",
              "<tr><td>XGBoost_3_AutoML_20201130_175338                   </td><td style=\"text-align: right;\">                 15.8135</td><td style=\"text-align: right;\">3.97662</td><td style=\"text-align: right;\">15.8135</td><td style=\"text-align: right;\">2.99246</td><td style=\"text-align: right;\">0.00875027</td></tr>\n",
              "<tr><td>GBM_grid__1_AutoML_20201130_175338_model_1         </td><td style=\"text-align: right;\">                 16.0713</td><td style=\"text-align: right;\">4.00891</td><td style=\"text-align: right;\">16.0713</td><td style=\"text-align: right;\">2.98583</td><td style=\"text-align: right;\">0.00881389</td></tr>\n",
              "<tr><td>XGBoost_2_AutoML_20201130_175338                   </td><td style=\"text-align: right;\">                 20.6318</td><td style=\"text-align: right;\">4.54223</td><td style=\"text-align: right;\">20.6318</td><td style=\"text-align: right;\">3.50621</td><td style=\"text-align: right;\">0.00997551</td></tr>\n",
              "<tr><td>DeepLearning_1_AutoML_20201130_175338              </td><td style=\"text-align: right;\">                 22.0552</td><td style=\"text-align: right;\">4.6963 </td><td style=\"text-align: right;\">22.0552</td><td style=\"text-align: right;\">3.62343</td><td style=\"text-align: right;\">0.0102724 </td></tr>\n",
              "<tr><td>XRT_1_AutoML_20201130_175338                       </td><td style=\"text-align: right;\">                 22.7843</td><td style=\"text-align: right;\">4.77329</td><td style=\"text-align: right;\">22.7843</td><td style=\"text-align: right;\">3.35047</td><td style=\"text-align: right;\">0.0104907 </td></tr>\n",
              "<tr><td>DRF_1_AutoML_20201130_175338                       </td><td style=\"text-align: right;\">                 25.0549</td><td style=\"text-align: right;\">5.00549</td><td style=\"text-align: right;\">25.0549</td><td style=\"text-align: right;\">3.46702</td><td style=\"text-align: right;\">0.010972  </td></tr>\n",
              "<tr><td>GLM_1_AutoML_20201130_175338                       </td><td style=\"text-align: right;\">                 25.4781</td><td style=\"text-align: right;\">5.04759</td><td style=\"text-align: right;\">25.4781</td><td style=\"text-align: right;\">4.01351</td><td style=\"text-align: right;\">0.0110303 </td></tr>\n",
              "<tr><td>DeepLearning_grid__1_AutoML_20201130_175338_model_1</td><td style=\"text-align: right;\">                 26.6211</td><td style=\"text-align: right;\">5.15956</td><td style=\"text-align: right;\">26.6211</td><td style=\"text-align: right;\">3.93697</td><td style=\"text-align: right;\">0.011377  </td></tr>\n",
              "</tbody>\n",
              "</table>"
            ]
          },
          "metadata": {
            "tags": []
          }
        },
        {
          "output_type": "execute_result",
          "data": {
            "text/plain": [
              ""
            ]
          },
          "metadata": {
            "tags": []
          },
          "execution_count": 13
        }
      ]
    },
    {
      "cell_type": "markdown",
      "metadata": {
        "id": "6fFE_E6cSAX1"
      },
      "source": [
        "##Now we will view a snapshot of the top models. Here we should see the two Stacked Ensembles at or near the top of the leaderboard. Stacked Ensembles can almost always outperform a single model"
      ]
    },
    {
      "cell_type": "markdown",
      "metadata": {
        "id": "e2qFboJMSI0z"
      },
      "source": [
        "\n",
        "##This dataset comes from the UCI Machine Learning Repository of machine learning datasets. The data was used in a publication in the International Journal of Electrical Power & Energy Systems in 2014. In the paper, the authors achieved a mean absolute error (MAE) of 2.818 and a Root Mean-Squared Error (RMSE) of 3.787 on their best model. So, with H2O's AutoML, we've already beaten the state-of-the-art in just 60 seconds of compute time!"
      ]
    },
    {
      "cell_type": "markdown",
      "metadata": {
        "id": "kD9DHZQOSPGi"
      },
      "source": [
        "#Predict Using Leader Model\n",
        "##If you need to generate predictions on a test set, you can make predictions on the \"H2OAutoML\" object directly, or on the leader model object.\n",
        "\n"
      ]
    },
    {
      "cell_type": "code",
      "metadata": {
        "colab": {
          "base_uri": "https://localhost:8080/",
          "height": 231
        },
        "id": "OQs-jzP-SD6I",
        "outputId": "9834cc90-028a-42e9-9d70-f674c91b9e57"
      },
      "source": [
        "\n",
        "pred = aml.predict(test)\n",
        "pred.head()"
      ],
      "execution_count": 14,
      "outputs": [
        {
          "output_type": "stream",
          "text": [
            "xgboost prediction progress: |████████████████████████████████████████████| 100%\n"
          ],
          "name": "stdout"
        },
        {
          "output_type": "display_data",
          "data": {
            "text/html": [
              "<table>\n",
              "<thead>\n",
              "<tr><th style=\"text-align: right;\">  predict</th></tr>\n",
              "</thead>\n",
              "<tbody>\n",
              "<tr><td style=\"text-align: right;\">  485.695</td></tr>\n",
              "<tr><td style=\"text-align: right;\">  473.756</td></tr>\n",
              "<tr><td style=\"text-align: right;\">  467.413</td></tr>\n",
              "<tr><td style=\"text-align: right;\">  450.41 </td></tr>\n",
              "<tr><td style=\"text-align: right;\">  448.128</td></tr>\n",
              "<tr><td style=\"text-align: right;\">  468.133</td></tr>\n",
              "<tr><td style=\"text-align: right;\">  442.936</td></tr>\n",
              "<tr><td style=\"text-align: right;\">  466.101</td></tr>\n",
              "<tr><td style=\"text-align: right;\">  442.655</td></tr>\n",
              "<tr><td style=\"text-align: right;\">  431.161</td></tr>\n",
              "</tbody>\n",
              "</table>"
            ]
          },
          "metadata": {
            "tags": []
          }
        },
        {
          "output_type": "execute_result",
          "data": {
            "text/plain": [
              ""
            ]
          },
          "metadata": {
            "tags": []
          },
          "execution_count": 14
        }
      ]
    },
    {
      "cell_type": "markdown",
      "metadata": {
        "id": "cLN2gFKFSVCL"
      },
      "source": [
        "\n",
        "##If needed, the standard model_performance() method can be applied to the AutoML leader model and a test set to generate an H2O model performance object."
      ]
    },
    {
      "cell_type": "code",
      "metadata": {
        "colab": {
          "base_uri": "https://localhost:8080/"
        },
        "id": "j5G_TlUqSXH9",
        "outputId": "f5f149c9-d1d5-45bf-fe9d-22d679281f14"
      },
      "source": [
        "\n",
        "perf = aml.leader.model_performance(test)\n",
        "perf"
      ],
      "execution_count": 15,
      "outputs": [
        {
          "output_type": "stream",
          "text": [
            "\n",
            "ModelMetricsRegression: xgboost\n",
            "** Reported on test data. **\n",
            "\n",
            "MSE: 11.723888817434862\n",
            "RMSE: 3.4240164744689623\n",
            "MAE: 2.3403112773602754\n",
            "RMSLE: 0.007519009129557612\n",
            "Mean Residual Deviance: 11.723888817434862\n"
          ],
          "name": "stdout"
        },
        {
          "output_type": "execute_result",
          "data": {
            "text/plain": [
              ""
            ]
          },
          "metadata": {
            "tags": []
          },
          "execution_count": 15
        }
      ]
    },
    {
      "cell_type": "code",
      "metadata": {
        "id": "JBZ3thI2SZDa"
      },
      "source": [
        ""
      ],
      "execution_count": 15,
      "outputs": []
    }
  ]
}