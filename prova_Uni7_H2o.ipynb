{
  "nbformat": 4,
  "nbformat_minor": 0,
  "metadata": {
    "colab": {
      "name": "provaH2o.ipynb",
      "provenance": []
    },
    "kernelspec": {
      "name": "python3",
      "display_name": "Python 3"
    }
  },
  "cells": [
    {
      "cell_type": "code",
      "metadata": {
        "colab": {
          "base_uri": "https://localhost:8080/",
          "height": 389
        },
        "id": "1CXFZ31zsQYk",
        "outputId": "e974252f-9f5f-4101-e87f-4287b5736a6b"
      },
      "source": [
        "#!pip install h2o\n",
        "import pandas as pd\n",
        "import numpy as np\n",
        "import h2o\n",
        "from h2o.automl import H2OAutoML\n",
        "h2o.init()"
      ],
      "execution_count": 153,
      "outputs": [
        {
          "output_type": "stream",
          "text": [
            "Checking whether there is an H2O instance running at http://localhost:54321 . connected.\n"
          ],
          "name": "stdout"
        },
        {
          "output_type": "display_data",
          "data": {
            "text/html": [
              "<div style=\"overflow:auto\"><table style=\"width:50%\"><tr><td>H2O_cluster_uptime:</td>\n",
              "<td>55 mins 58 secs</td></tr>\n",
              "<tr><td>H2O_cluster_timezone:</td>\n",
              "<td>Etc/UTC</td></tr>\n",
              "<tr><td>H2O_data_parsing_timezone:</td>\n",
              "<td>UTC</td></tr>\n",
              "<tr><td>H2O_cluster_version:</td>\n",
              "<td>3.32.0.2</td></tr>\n",
              "<tr><td>H2O_cluster_version_age:</td>\n",
              "<td>1 month and 8 days </td></tr>\n",
              "<tr><td>H2O_cluster_name:</td>\n",
              "<td>H2O_from_python_unknownUser_dl4qlw</td></tr>\n",
              "<tr><td>H2O_cluster_total_nodes:</td>\n",
              "<td>1</td></tr>\n",
              "<tr><td>H2O_cluster_free_memory:</td>\n",
              "<td>3.062 Gb</td></tr>\n",
              "<tr><td>H2O_cluster_total_cores:</td>\n",
              "<td>2</td></tr>\n",
              "<tr><td>H2O_cluster_allowed_cores:</td>\n",
              "<td>2</td></tr>\n",
              "<tr><td>H2O_cluster_status:</td>\n",
              "<td>locked, healthy</td></tr>\n",
              "<tr><td>H2O_connection_url:</td>\n",
              "<td>http://localhost:54321</td></tr>\n",
              "<tr><td>H2O_connection_proxy:</td>\n",
              "<td>{\"http\": null, \"https\": null}</td></tr>\n",
              "<tr><td>H2O_internal_security:</td>\n",
              "<td>False</td></tr>\n",
              "<tr><td>H2O_API_Extensions:</td>\n",
              "<td>Amazon S3, XGBoost, Algos, AutoML, Core V3, TargetEncoder, Core V4</td></tr>\n",
              "<tr><td>Python_version:</td>\n",
              "<td>3.6.9 final</td></tr></table></div>"
            ],
            "text/plain": [
              "--------------------------  ------------------------------------------------------------------\n",
              "H2O_cluster_uptime:         55 mins 58 secs\n",
              "H2O_cluster_timezone:       Etc/UTC\n",
              "H2O_data_parsing_timezone:  UTC\n",
              "H2O_cluster_version:        3.32.0.2\n",
              "H2O_cluster_version_age:    1 month and 8 days\n",
              "H2O_cluster_name:           H2O_from_python_unknownUser_dl4qlw\n",
              "H2O_cluster_total_nodes:    1\n",
              "H2O_cluster_free_memory:    3.062 Gb\n",
              "H2O_cluster_total_cores:    2\n",
              "H2O_cluster_allowed_cores:  2\n",
              "H2O_cluster_status:         locked, healthy\n",
              "H2O_connection_url:         http://localhost:54321\n",
              "H2O_connection_proxy:       {\"http\": null, \"https\": null}\n",
              "H2O_internal_security:      False\n",
              "H2O_API_Extensions:         Amazon S3, XGBoost, Algos, AutoML, Core V3, TargetEncoder, Core V4\n",
              "Python_version:             3.6.9 final\n",
              "--------------------------  ------------------------------------------------------------------"
            ]
          },
          "metadata": {
            "tags": []
          }
        }
      ]
    },
    {
      "cell_type": "code",
      "metadata": {
        "colab": {
          "base_uri": "https://localhost:8080/",
          "height": 1000
        },
        "id": "gUEa8ptLsjIi",
        "outputId": "13f42b65-f25e-458d-89dd-550a9591005a"
      },
      "source": [
        "data_path = \"/content/Call_Data_Small.csv\"\n",
        "\n",
        "df = pd.read_csv(data_path)\n",
        "\n"
      ],
      "execution_count": 165,
      "outputs": [
        {
          "output_type": "execute_result",
          "data": {
            "text/html": [
              "<div>\n",
              "<style scoped>\n",
              "    .dataframe tbody tr th:only-of-type {\n",
              "        vertical-align: middle;\n",
              "    }\n",
              "\n",
              "    .dataframe tbody tr th {\n",
              "        vertical-align: top;\n",
              "    }\n",
              "\n",
              "    .dataframe thead th {\n",
              "        text-align: right;\n",
              "    }\n",
              "</style>\n",
              "<table border=\"1\" class=\"dataframe\">\n",
              "  <thead>\n",
              "    <tr style=\"text-align: right;\">\n",
              "      <th></th>\n",
              "      <th>Unnamed: 0</th>\n",
              "      <th>CAD Event Number</th>\n",
              "      <th>Event Clearance Description</th>\n",
              "      <th>Call Type</th>\n",
              "      <th>Priority</th>\n",
              "      <th>Initial Call Type</th>\n",
              "      <th>Final Call Type</th>\n",
              "      <th>Original Time Queued</th>\n",
              "      <th>Arrived Time</th>\n",
              "      <th>Precinct</th>\n",
              "      <th>Sector</th>\n",
              "      <th>Beat</th>\n",
              "    </tr>\n",
              "  </thead>\n",
              "  <tbody>\n",
              "    <tr>\n",
              "      <th>0</th>\n",
              "      <td>1</td>\n",
              "      <td>2009000189336</td>\n",
              "      <td>CITATION ISSUED (CRIMINAL OR NON-CRIMINAL)</td>\n",
              "      <td>TELEPHONE OTHER, NOT 911</td>\n",
              "      <td>3</td>\n",
              "      <td>TRAFFIC - BLOCKING ROADWAY</td>\n",
              "      <td>TRAFFIC - BLOCKING ROADWAY</td>\n",
              "      <td>06/02/2009 03:43:08 AM</td>\n",
              "      <td>Jun  2 2009 05:47:21:000AM</td>\n",
              "      <td>WEST</td>\n",
              "      <td>QUEEN</td>\n",
              "      <td>Q1</td>\n",
              "    </tr>\n",
              "    <tr>\n",
              "      <th>1</th>\n",
              "      <td>2</td>\n",
              "      <td>2009000189340</td>\n",
              "      <td>PROBLEM SOLVING PROJECT</td>\n",
              "      <td>ONVIEW</td>\n",
              "      <td>7</td>\n",
              "      <td>PREMISE CHECK, OFFICER INITIATED ONVIEW ONLY</td>\n",
              "      <td>PREMISE CHECK, OFFICER INITIATED ONVIEW ONLY</td>\n",
              "      <td>06/02/2009 03:47:24 AM</td>\n",
              "      <td>Jun  2 2009 03:47:24:000AM</td>\n",
              "      <td>WEST</td>\n",
              "      <td>KING</td>\n",
              "      <td>K1</td>\n",
              "    </tr>\n",
              "    <tr>\n",
              "      <th>2</th>\n",
              "      <td>5</td>\n",
              "      <td>2009000189344</td>\n",
              "      <td>UNABLE TO LOCATE INCIDENT OR COMPLAINANT</td>\n",
              "      <td>TELEPHONE OTHER, NOT 911</td>\n",
              "      <td>2</td>\n",
              "      <td>FIGHT - VERBAL/ORAL (NO WEAPONS)</td>\n",
              "      <td>--DISTURBANCE - OTHER</td>\n",
              "      <td>06/02/2009 03:53:00 AM</td>\n",
              "      <td>Jun  2 2009 04:21:52:000AM</td>\n",
              "      <td>NORTH</td>\n",
              "      <td>NORA</td>\n",
              "      <td>N3</td>\n",
              "    </tr>\n",
              "    <tr>\n",
              "      <th>3</th>\n",
              "      <td>6</td>\n",
              "      <td>2009000189345</td>\n",
              "      <td>REPORT WRITTEN (NO ARREST)</td>\n",
              "      <td>TELEPHONE OTHER, NOT 911</td>\n",
              "      <td>2</td>\n",
              "      <td>ACC - HIT AND RUN (NO INJURIES). INCLUDES IP/JO</td>\n",
              "      <td>--TRAFFIC - MV COLLISION INVESTIGATION</td>\n",
              "      <td>06/02/2009 03:54:42 AM</td>\n",
              "      <td>Jan  1 1900 12:00:00:000AM</td>\n",
              "      <td>SOUTH</td>\n",
              "      <td>OCEAN</td>\n",
              "      <td>O1</td>\n",
              "    </tr>\n",
              "    <tr>\n",
              "      <th>4</th>\n",
              "      <td>8</td>\n",
              "      <td>2009000189348</td>\n",
              "      <td>REPORT WRITTEN (NO ARREST)</td>\n",
              "      <td>ONVIEW</td>\n",
              "      <td>3</td>\n",
              "      <td>SUSPICIOUS PERSON, VEHICLE OR INCIDENT</td>\n",
              "      <td>--DISTURBANCE - OTHER</td>\n",
              "      <td>06/02/2009 03:58:02 AM</td>\n",
              "      <td>Jun  2 2009 03:58:02:000AM</td>\n",
              "      <td>WEST</td>\n",
              "      <td>KING</td>\n",
              "      <td>K2</td>\n",
              "    </tr>\n",
              "    <tr>\n",
              "      <th>...</th>\n",
              "      <td>...</td>\n",
              "      <td>...</td>\n",
              "      <td>...</td>\n",
              "      <td>...</td>\n",
              "      <td>...</td>\n",
              "      <td>...</td>\n",
              "      <td>...</td>\n",
              "      <td>...</td>\n",
              "      <td>...</td>\n",
              "      <td>...</td>\n",
              "      <td>...</td>\n",
              "      <td>...</td>\n",
              "    </tr>\n",
              "    <tr>\n",
              "      <th>93897</th>\n",
              "      <td>199987</td>\n",
              "      <td>2009000432273</td>\n",
              "      <td>UNABLE TO LOCATE INCIDENT OR COMPLAINANT</td>\n",
              "      <td>ONVIEW</td>\n",
              "      <td>2</td>\n",
              "      <td>WARRANT - MISD WARRANT PICKUP</td>\n",
              "      <td>--WARRANT SERVICES - FELONY</td>\n",
              "      <td>12/16/2009 03:41:36 PM</td>\n",
              "      <td>Dec 16 2009 03:41:36:000PM</td>\n",
              "      <td>NORTH</td>\n",
              "      <td>NORA</td>\n",
              "      <td>N3</td>\n",
              "    </tr>\n",
              "    <tr>\n",
              "      <th>93898</th>\n",
              "      <td>199992</td>\n",
              "      <td>2009000432278</td>\n",
              "      <td>CITATION ISSUED (CRIMINAL OR NON-CRIMINAL)</td>\n",
              "      <td>ONVIEW</td>\n",
              "      <td>7</td>\n",
              "      <td>TRAFFIC STOP - OFFICER INITIATED ONVIEW</td>\n",
              "      <td>--TRAFFIC - MOVING VIOLATION</td>\n",
              "      <td>12/16/2009 03:44:48 PM</td>\n",
              "      <td>Dec 16 2009 03:44:48:000PM</td>\n",
              "      <td>SOUTH</td>\n",
              "      <td>OCEAN</td>\n",
              "      <td>O1</td>\n",
              "    </tr>\n",
              "    <tr>\n",
              "      <th>93899</th>\n",
              "      <td>199994</td>\n",
              "      <td>2009000432281</td>\n",
              "      <td>REPORT WRITTEN (NO ARREST)</td>\n",
              "      <td>TELEPHONE OTHER, NOT 911</td>\n",
              "      <td>2</td>\n",
              "      <td>ACC - NON INJURY, BLOCKING</td>\n",
              "      <td>--TRAFFIC - MV COLLISION INVESTIGATION</td>\n",
              "      <td>12/16/2009 03:49:17 PM</td>\n",
              "      <td>Dec 16 2009 03:49:50:000PM</td>\n",
              "      <td>SOUTH</td>\n",
              "      <td>SAM</td>\n",
              "      <td>S2</td>\n",
              "    </tr>\n",
              "    <tr>\n",
              "      <th>93900</th>\n",
              "      <td>199995</td>\n",
              "      <td>2009000432282</td>\n",
              "      <td>UNABLE TO LOCATE INCIDENT OR COMPLAINANT</td>\n",
              "      <td>TELEPHONE OTHER, NOT 911</td>\n",
              "      <td>2</td>\n",
              "      <td>ACC - NON INJURY, BLOCKING</td>\n",
              "      <td>--TRAFFIC - MV COLLISION INVESTIGATION</td>\n",
              "      <td>12/16/2009 03:50:31 PM</td>\n",
              "      <td>Dec 16 2009 03:53:48:000PM</td>\n",
              "      <td>SOUTH</td>\n",
              "      <td>SAM</td>\n",
              "      <td>S2</td>\n",
              "    </tr>\n",
              "    <tr>\n",
              "      <th>93901</th>\n",
              "      <td>199998</td>\n",
              "      <td>2009000432286</td>\n",
              "      <td>REPORT WRITTEN (NO ARREST)</td>\n",
              "      <td>911</td>\n",
              "      <td>2</td>\n",
              "      <td>DIST - DV - NO ASLT</td>\n",
              "      <td>--DV - ARGUMENTS, DISTURBANCE (NO ARREST)</td>\n",
              "      <td>12/16/2009 03:52:08 PM</td>\n",
              "      <td>Dec 16 2009 03:58:02:000PM</td>\n",
              "      <td>SOUTH</td>\n",
              "      <td>SAM</td>\n",
              "      <td>S2</td>\n",
              "    </tr>\n",
              "  </tbody>\n",
              "</table>\n",
              "<p>93902 rows × 12 columns</p>\n",
              "</div>"
            ],
            "text/plain": [
              "       Unnamed: 0  CAD Event Number  ... Sector Beat\n",
              "0               1     2009000189336  ...  QUEEN   Q1\n",
              "1               2     2009000189340  ...   KING   K1\n",
              "2               5     2009000189344  ...   NORA   N3\n",
              "3               6     2009000189345  ...  OCEAN   O1\n",
              "4               8     2009000189348  ...   KING   K2\n",
              "...           ...               ...  ...    ...  ...\n",
              "93897      199987     2009000432273  ...   NORA   N3\n",
              "93898      199992     2009000432278  ...  OCEAN   O1\n",
              "93899      199994     2009000432281  ...    SAM   S2\n",
              "93900      199995     2009000432282  ...    SAM   S2\n",
              "93901      199998     2009000432286  ...    SAM   S2\n",
              "\n",
              "[93902 rows x 12 columns]"
            ]
          },
          "metadata": {
            "tags": []
          },
          "execution_count": 165
        }
      ]
    },
    {
      "cell_type": "code",
      "metadata": {
        "colab": {
          "base_uri": "https://localhost:8080/",
          "height": 581
        },
        "id": "E5_JbcaZs4mQ",
        "outputId": "f6f19f08-bc44-4c98-a6aa-6184ce2d3b27"
      },
      "source": [
        "df.head()"
      ],
      "execution_count": 166,
      "outputs": [
        {
          "output_type": "execute_result",
          "data": {
            "text/html": [
              "<div>\n",
              "<style scoped>\n",
              "    .dataframe tbody tr th:only-of-type {\n",
              "        vertical-align: middle;\n",
              "    }\n",
              "\n",
              "    .dataframe tbody tr th {\n",
              "        vertical-align: top;\n",
              "    }\n",
              "\n",
              "    .dataframe thead th {\n",
              "        text-align: right;\n",
              "    }\n",
              "</style>\n",
              "<table border=\"1\" class=\"dataframe\">\n",
              "  <thead>\n",
              "    <tr style=\"text-align: right;\">\n",
              "      <th></th>\n",
              "      <th>Unnamed: 0</th>\n",
              "      <th>CAD Event Number</th>\n",
              "      <th>Event Clearance Description</th>\n",
              "      <th>Call Type</th>\n",
              "      <th>Priority</th>\n",
              "      <th>Initial Call Type</th>\n",
              "      <th>Final Call Type</th>\n",
              "      <th>Original Time Queued</th>\n",
              "      <th>Arrived Time</th>\n",
              "      <th>Precinct</th>\n",
              "      <th>Sector</th>\n",
              "      <th>Beat</th>\n",
              "    </tr>\n",
              "  </thead>\n",
              "  <tbody>\n",
              "    <tr>\n",
              "      <th>0</th>\n",
              "      <td>1</td>\n",
              "      <td>2009000189336</td>\n",
              "      <td>CITATION ISSUED (CRIMINAL OR NON-CRIMINAL)</td>\n",
              "      <td>TELEPHONE OTHER, NOT 911</td>\n",
              "      <td>3</td>\n",
              "      <td>TRAFFIC - BLOCKING ROADWAY</td>\n",
              "      <td>TRAFFIC - BLOCKING ROADWAY</td>\n",
              "      <td>06/02/2009 03:43:08 AM</td>\n",
              "      <td>Jun  2 2009 05:47:21:000AM</td>\n",
              "      <td>WEST</td>\n",
              "      <td>QUEEN</td>\n",
              "      <td>Q1</td>\n",
              "    </tr>\n",
              "    <tr>\n",
              "      <th>1</th>\n",
              "      <td>2</td>\n",
              "      <td>2009000189340</td>\n",
              "      <td>PROBLEM SOLVING PROJECT</td>\n",
              "      <td>ONVIEW</td>\n",
              "      <td>7</td>\n",
              "      <td>PREMISE CHECK, OFFICER INITIATED ONVIEW ONLY</td>\n",
              "      <td>PREMISE CHECK, OFFICER INITIATED ONVIEW ONLY</td>\n",
              "      <td>06/02/2009 03:47:24 AM</td>\n",
              "      <td>Jun  2 2009 03:47:24:000AM</td>\n",
              "      <td>WEST</td>\n",
              "      <td>KING</td>\n",
              "      <td>K1</td>\n",
              "    </tr>\n",
              "    <tr>\n",
              "      <th>2</th>\n",
              "      <td>5</td>\n",
              "      <td>2009000189344</td>\n",
              "      <td>UNABLE TO LOCATE INCIDENT OR COMPLAINANT</td>\n",
              "      <td>TELEPHONE OTHER, NOT 911</td>\n",
              "      <td>2</td>\n",
              "      <td>FIGHT - VERBAL/ORAL (NO WEAPONS)</td>\n",
              "      <td>--DISTURBANCE - OTHER</td>\n",
              "      <td>06/02/2009 03:53:00 AM</td>\n",
              "      <td>Jun  2 2009 04:21:52:000AM</td>\n",
              "      <td>NORTH</td>\n",
              "      <td>NORA</td>\n",
              "      <td>N3</td>\n",
              "    </tr>\n",
              "    <tr>\n",
              "      <th>3</th>\n",
              "      <td>6</td>\n",
              "      <td>2009000189345</td>\n",
              "      <td>REPORT WRITTEN (NO ARREST)</td>\n",
              "      <td>TELEPHONE OTHER, NOT 911</td>\n",
              "      <td>2</td>\n",
              "      <td>ACC - HIT AND RUN (NO INJURIES). INCLUDES IP/JO</td>\n",
              "      <td>--TRAFFIC - MV COLLISION INVESTIGATION</td>\n",
              "      <td>06/02/2009 03:54:42 AM</td>\n",
              "      <td>Jan  1 1900 12:00:00:000AM</td>\n",
              "      <td>SOUTH</td>\n",
              "      <td>OCEAN</td>\n",
              "      <td>O1</td>\n",
              "    </tr>\n",
              "    <tr>\n",
              "      <th>4</th>\n",
              "      <td>8</td>\n",
              "      <td>2009000189348</td>\n",
              "      <td>REPORT WRITTEN (NO ARREST)</td>\n",
              "      <td>ONVIEW</td>\n",
              "      <td>3</td>\n",
              "      <td>SUSPICIOUS PERSON, VEHICLE OR INCIDENT</td>\n",
              "      <td>--DISTURBANCE - OTHER</td>\n",
              "      <td>06/02/2009 03:58:02 AM</td>\n",
              "      <td>Jun  2 2009 03:58:02:000AM</td>\n",
              "      <td>WEST</td>\n",
              "      <td>KING</td>\n",
              "      <td>K2</td>\n",
              "    </tr>\n",
              "  </tbody>\n",
              "</table>\n",
              "</div>"
            ],
            "text/plain": [
              "   Unnamed: 0  CAD Event Number  ... Sector Beat\n",
              "0           1     2009000189336  ...  QUEEN   Q1\n",
              "1           2     2009000189340  ...   KING   K1\n",
              "2           5     2009000189344  ...   NORA   N3\n",
              "3           6     2009000189345  ...  OCEAN   O1\n",
              "4           8     2009000189348  ...   KING   K2\n",
              "\n",
              "[5 rows x 12 columns]"
            ]
          },
          "metadata": {
            "tags": []
          },
          "execution_count": 166
        }
      ]
    },
    {
      "cell_type": "code",
      "metadata": {
        "colab": {
          "base_uri": "https://localhost:8080/"
        },
        "id": "zacpFUmXU4EX",
        "outputId": "59345a56-837a-4bfc-a18d-67959e4f6912"
      },
      "source": [
        "df.isnull().sum().sort_values(ascending=False)"
      ],
      "execution_count": 167,
      "outputs": [
        {
          "output_type": "execute_result",
          "data": {
            "text/plain": [
              "Sector                         597\n",
              "Beat                             0\n",
              "Precinct                         0\n",
              "Arrived Time                     0\n",
              "Original Time Queued             0\n",
              "Final Call Type                  0\n",
              "Initial Call Type                0\n",
              "Priority                         0\n",
              "Call Type                        0\n",
              "Event Clearance Description      0\n",
              "CAD Event Number                 0\n",
              "Unnamed: 0                       0\n",
              "dtype: int64"
            ]
          },
          "metadata": {
            "tags": []
          },
          "execution_count": 167
        }
      ]
    },
    {
      "cell_type": "code",
      "metadata": {
        "colab": {
          "base_uri": "https://localhost:8080/"
        },
        "id": "mklkSjQL_qeK",
        "outputId": "6b54195a-1c81-4e75-a6aa-7833713e0a1e"
      },
      "source": [
        "df['Sector'].fillna(df['Sector'].mode()[0], inplace=True)\r\n",
        "df['Beat'].fillna(df['Beat'].mode()[0], inplace=True)\r\n",
        "df['Precinct'].fillna(df['Precinct'].mode()[0], inplace=True)\r\n",
        "df.isnull().sum().sort_values(ascending=False)"
      ],
      "execution_count": 168,
      "outputs": [
        {
          "output_type": "execute_result",
          "data": {
            "text/plain": [
              "Beat                           0\n",
              "Sector                         0\n",
              "Precinct                       0\n",
              "Arrived Time                   0\n",
              "Original Time Queued           0\n",
              "Final Call Type                0\n",
              "Initial Call Type              0\n",
              "Priority                       0\n",
              "Call Type                      0\n",
              "Event Clearance Description    0\n",
              "CAD Event Number               0\n",
              "Unnamed: 0                     0\n",
              "dtype: int64"
            ]
          },
          "metadata": {
            "tags": []
          },
          "execution_count": 168
        }
      ]
    },
    {
      "cell_type": "code",
      "metadata": {
        "id": "MKxx5A6ODlLN",
        "colab": {
          "base_uri": "https://localhost:8080/",
          "height": 407
        },
        "outputId": "1f1411f4-5728-46a1-eb4e-40f0fc2bc029"
      },
      "source": [
        "#Definir os atributos categóricos e aplicar o label encode \r\n",
        "from sklearn.preprocessing import LabelEncoder\r\n",
        "x_to_label = df[['Call Type','Priority','Initial Call Type','Final Call Type',\r\n",
        "                       'Precinct','Sector','Beat','Event Clearance Description']]\r\n",
        "le = LabelEncoder()\r\n",
        "df = x_to_label.apply(le.fit_transform)\r\n",
        "#Chamaremos as variávels categóricas normalizadas de x_label\r\n",
        "df.reset_index(drop=True,inplace=True)\r\n",
        "df\r\n"
      ],
      "execution_count": 169,
      "outputs": [
        {
          "output_type": "execute_result",
          "data": {
            "text/html": [
              "<div>\n",
              "<style scoped>\n",
              "    .dataframe tbody tr th:only-of-type {\n",
              "        vertical-align: middle;\n",
              "    }\n",
              "\n",
              "    .dataframe tbody tr th {\n",
              "        vertical-align: top;\n",
              "    }\n",
              "\n",
              "    .dataframe thead th {\n",
              "        text-align: right;\n",
              "    }\n",
              "</style>\n",
              "<table border=\"1\" class=\"dataframe\">\n",
              "  <thead>\n",
              "    <tr style=\"text-align: right;\">\n",
              "      <th></th>\n",
              "      <th>Call Type</th>\n",
              "      <th>Priority</th>\n",
              "      <th>Initial Call Type</th>\n",
              "      <th>Final Call Type</th>\n",
              "      <th>Precinct</th>\n",
              "      <th>Sector</th>\n",
              "      <th>Beat</th>\n",
              "      <th>Event Clearance Description</th>\n",
              "    </tr>\n",
              "  </thead>\n",
              "  <tbody>\n",
              "    <tr>\n",
              "      <th>0</th>\n",
              "      <td>6</td>\n",
              "      <td>2</td>\n",
              "      <td>182</td>\n",
              "      <td>281</td>\n",
              "      <td>5</td>\n",
              "      <td>12</td>\n",
              "      <td>58</td>\n",
              "      <td>0</td>\n",
              "    </tr>\n",
              "    <tr>\n",
              "      <th>1</th>\n",
              "      <td>4</td>\n",
              "      <td>6</td>\n",
              "      <td>141</td>\n",
              "      <td>245</td>\n",
              "      <td>5</td>\n",
              "      <td>7</td>\n",
              "      <td>36</td>\n",
              "      <td>4</td>\n",
              "    </tr>\n",
              "    <tr>\n",
              "      <th>2</th>\n",
              "      <td>6</td>\n",
              "      <td>1</td>\n",
              "      <td>85</td>\n",
              "      <td>42</td>\n",
              "      <td>1</td>\n",
              "      <td>10</td>\n",
              "      <td>51</td>\n",
              "      <td>6</td>\n",
              "    </tr>\n",
              "    <tr>\n",
              "      <th>3</th>\n",
              "      <td>6</td>\n",
              "      <td>1</td>\n",
              "      <td>17</td>\n",
              "      <td>112</td>\n",
              "      <td>2</td>\n",
              "      <td>11</td>\n",
              "      <td>52</td>\n",
              "      <td>5</td>\n",
              "    </tr>\n",
              "    <tr>\n",
              "      <th>4</th>\n",
              "      <td>4</td>\n",
              "      <td>2</td>\n",
              "      <td>174</td>\n",
              "      <td>42</td>\n",
              "      <td>5</td>\n",
              "      <td>7</td>\n",
              "      <td>37</td>\n",
              "      <td>5</td>\n",
              "    </tr>\n",
              "    <tr>\n",
              "      <th>...</th>\n",
              "      <td>...</td>\n",
              "      <td>...</td>\n",
              "      <td>...</td>\n",
              "      <td>...</td>\n",
              "      <td>...</td>\n",
              "      <td>...</td>\n",
              "      <td>...</td>\n",
              "      <td>...</td>\n",
              "    </tr>\n",
              "    <tr>\n",
              "      <th>93897</th>\n",
              "      <td>4</td>\n",
              "      <td>1</td>\n",
              "      <td>216</td>\n",
              "      <td>123</td>\n",
              "      <td>1</td>\n",
              "      <td>10</td>\n",
              "      <td>51</td>\n",
              "      <td>6</td>\n",
              "    </tr>\n",
              "    <tr>\n",
              "      <th>93898</th>\n",
              "      <td>4</td>\n",
              "      <td>6</td>\n",
              "      <td>187</td>\n",
              "      <td>111</td>\n",
              "      <td>2</td>\n",
              "      <td>11</td>\n",
              "      <td>52</td>\n",
              "      <td>0</td>\n",
              "    </tr>\n",
              "    <tr>\n",
              "      <th>93899</th>\n",
              "      <td>6</td>\n",
              "      <td>1</td>\n",
              "      <td>18</td>\n",
              "      <td>112</td>\n",
              "      <td>2</td>\n",
              "      <td>14</td>\n",
              "      <td>67</td>\n",
              "      <td>5</td>\n",
              "    </tr>\n",
              "    <tr>\n",
              "      <th>93900</th>\n",
              "      <td>6</td>\n",
              "      <td>1</td>\n",
              "      <td>18</td>\n",
              "      <td>112</td>\n",
              "      <td>2</td>\n",
              "      <td>14</td>\n",
              "      <td>67</td>\n",
              "      <td>6</td>\n",
              "    </tr>\n",
              "    <tr>\n",
              "      <th>93901</th>\n",
              "      <td>0</td>\n",
              "      <td>1</td>\n",
              "      <td>73</td>\n",
              "      <td>44</td>\n",
              "      <td>2</td>\n",
              "      <td>14</td>\n",
              "      <td>67</td>\n",
              "      <td>5</td>\n",
              "    </tr>\n",
              "  </tbody>\n",
              "</table>\n",
              "<p>93902 rows × 8 columns</p>\n",
              "</div>"
            ],
            "text/plain": [
              "       Call Type  Priority  ...  Beat  Event Clearance Description\n",
              "0              6         2  ...    58                            0\n",
              "1              4         6  ...    36                            4\n",
              "2              6         1  ...    51                            6\n",
              "3              6         1  ...    52                            5\n",
              "4              4         2  ...    37                            5\n",
              "...          ...       ...  ...   ...                          ...\n",
              "93897          4         1  ...    51                            6\n",
              "93898          4         6  ...    52                            0\n",
              "93899          6         1  ...    67                            5\n",
              "93900          6         1  ...    67                            6\n",
              "93901          0         1  ...    67                            5\n",
              "\n",
              "[93902 rows x 8 columns]"
            ]
          },
          "metadata": {
            "tags": []
          },
          "execution_count": 169
        }
      ]
    },
    {
      "cell_type": "code",
      "metadata": {
        "colab": {
          "base_uri": "https://localhost:8080/",
          "height": 267
        },
        "id": "0YURGyEHyFP6",
        "outputId": "657ff4c9-690c-460e-db25-0ccb9b536f5a"
      },
      "source": [
        "df.to_csv('/content/df.csv')\n",
        "data_path = \"/content/df.csv\"\n",
        "\n",
        "df = h2o.import_file(data_path)\n",
        "\n",
        "df"
      ],
      "execution_count": 170,
      "outputs": [
        {
          "output_type": "stream",
          "text": [
            "Parse progress: |█████████████████████████████████████████████████████████| 100%\n"
          ],
          "name": "stdout"
        },
        {
          "output_type": "display_data",
          "data": {
            "text/html": [
              "<table>\n",
              "<thead>\n",
              "<tr><th style=\"text-align: right;\">  C1</th><th style=\"text-align: right;\">  Call Type</th><th style=\"text-align: right;\">  Priority</th><th style=\"text-align: right;\">  Initial Call Type</th><th style=\"text-align: right;\">  Final Call Type</th><th style=\"text-align: right;\">  Precinct</th><th style=\"text-align: right;\">  Sector</th><th style=\"text-align: right;\">  Beat</th><th style=\"text-align: right;\">  Event Clearance Description</th></tr>\n",
              "</thead>\n",
              "<tbody>\n",
              "<tr><td style=\"text-align: right;\">   0</td><td style=\"text-align: right;\">          6</td><td style=\"text-align: right;\">         2</td><td style=\"text-align: right;\">                182</td><td style=\"text-align: right;\">              281</td><td style=\"text-align: right;\">         5</td><td style=\"text-align: right;\">      12</td><td style=\"text-align: right;\">    58</td><td style=\"text-align: right;\">                            0</td></tr>\n",
              "<tr><td style=\"text-align: right;\">   1</td><td style=\"text-align: right;\">          4</td><td style=\"text-align: right;\">         6</td><td style=\"text-align: right;\">                141</td><td style=\"text-align: right;\">              245</td><td style=\"text-align: right;\">         5</td><td style=\"text-align: right;\">       7</td><td style=\"text-align: right;\">    36</td><td style=\"text-align: right;\">                            4</td></tr>\n",
              "<tr><td style=\"text-align: right;\">   2</td><td style=\"text-align: right;\">          6</td><td style=\"text-align: right;\">         1</td><td style=\"text-align: right;\">                 85</td><td style=\"text-align: right;\">               42</td><td style=\"text-align: right;\">         1</td><td style=\"text-align: right;\">      10</td><td style=\"text-align: right;\">    51</td><td style=\"text-align: right;\">                            6</td></tr>\n",
              "<tr><td style=\"text-align: right;\">   3</td><td style=\"text-align: right;\">          6</td><td style=\"text-align: right;\">         1</td><td style=\"text-align: right;\">                 17</td><td style=\"text-align: right;\">              112</td><td style=\"text-align: right;\">         2</td><td style=\"text-align: right;\">      11</td><td style=\"text-align: right;\">    52</td><td style=\"text-align: right;\">                            5</td></tr>\n",
              "<tr><td style=\"text-align: right;\">   4</td><td style=\"text-align: right;\">          4</td><td style=\"text-align: right;\">         2</td><td style=\"text-align: right;\">                174</td><td style=\"text-align: right;\">               42</td><td style=\"text-align: right;\">         5</td><td style=\"text-align: right;\">       7</td><td style=\"text-align: right;\">    37</td><td style=\"text-align: right;\">                            5</td></tr>\n",
              "<tr><td style=\"text-align: right;\">   5</td><td style=\"text-align: right;\">          0</td><td style=\"text-align: right;\">         3</td><td style=\"text-align: right;\">                123</td><td style=\"text-align: right;\">               42</td><td style=\"text-align: right;\">         1</td><td style=\"text-align: right;\">       6</td><td style=\"text-align: right;\">    32</td><td style=\"text-align: right;\">                            2</td></tr>\n",
              "<tr><td style=\"text-align: right;\">   6</td><td style=\"text-align: right;\">          6</td><td style=\"text-align: right;\">         1</td><td style=\"text-align: right;\">                150</td><td style=\"text-align: right;\">              254</td><td style=\"text-align: right;\">         2</td><td style=\"text-align: right;\">      11</td><td style=\"text-align: right;\">    52</td><td style=\"text-align: right;\">                            6</td></tr>\n",
              "<tr><td style=\"text-align: right;\">   7</td><td style=\"text-align: right;\">          6</td><td style=\"text-align: right;\">         2</td><td style=\"text-align: right;\">                176</td><td style=\"text-align: right;\">              103</td><td style=\"text-align: right;\">         5</td><td style=\"text-align: right;\">       2</td><td style=\"text-align: right;\">    12</td><td style=\"text-align: right;\">                            6</td></tr>\n",
              "<tr><td style=\"text-align: right;\">   8</td><td style=\"text-align: right;\">          6</td><td style=\"text-align: right;\">         2</td><td style=\"text-align: right;\">                130</td><td style=\"text-align: right;\">              192</td><td style=\"text-align: right;\">         5</td><td style=\"text-align: right;\">      12</td><td style=\"text-align: right;\">    60</td><td style=\"text-align: right;\">                            6</td></tr>\n",
              "<tr><td style=\"text-align: right;\">   9</td><td style=\"text-align: right;\">          4</td><td style=\"text-align: right;\">         6</td><td style=\"text-align: right;\">                175</td><td style=\"text-align: right;\">              101</td><td style=\"text-align: right;\">         2</td><td style=\"text-align: right;\">      13</td><td style=\"text-align: right;\">    64</td><td style=\"text-align: right;\">                            2</td></tr>\n",
              "</tbody>\n",
              "</table>"
            ]
          },
          "metadata": {
            "tags": []
          }
        },
        {
          "output_type": "execute_result",
          "data": {
            "text/plain": [
              ""
            ]
          },
          "metadata": {
            "tags": []
          },
          "execution_count": 170
        }
      ]
    },
    {
      "cell_type": "code",
      "metadata": {
        "colab": {
          "base_uri": "https://localhost:8080/"
        },
        "id": "wfDPd3diucaU",
        "outputId": "d647c780-556b-4667-eeed-33fedf328c10"
      },
      "source": [
        "y='Event Clearance Description'\n",
        "x=df.columns\n",
        "x.remove(y)\n",
        "x.remove('C1')\n",
        "x"
      ],
      "execution_count": 173,
      "outputs": [
        {
          "output_type": "execute_result",
          "data": {
            "text/plain": [
              "['Call Type',\n",
              " 'Priority',\n",
              " 'Initial Call Type',\n",
              " 'Final Call Type',\n",
              " 'Precinct',\n",
              " 'Sector',\n",
              " 'Beat']"
            ]
          },
          "metadata": {
            "tags": []
          },
          "execution_count": 173
        }
      ]
    },
    {
      "cell_type": "code",
      "metadata": {
        "colab": {
          "base_uri": "https://localhost:8080/"
        },
        "id": "8DzSizZm6-UX",
        "outputId": "5a4608cb-514c-406c-d955-85bbc68f258c"
      },
      "source": [
        "aml = H2OAutoML(max_models = 10, seed = 1)\n",
        "aml.train(x = x, y = y, training_frame = df)"
      ],
      "execution_count": 174,
      "outputs": [
        {
          "output_type": "stream",
          "text": [
            "AutoML progress: |████████████████████████████████████████████████████████| 100%\n"
          ],
          "name": "stdout"
        }
      ]
    },
    {
      "cell_type": "code",
      "metadata": {
        "id": "F4g5oeHQ6-YL"
      },
      "source": [
        "lb = aml.leaderboard"
      ],
      "execution_count": 175,
      "outputs": []
    },
    {
      "cell_type": "markdown",
      "metadata": {
        "id": "DuCYFf46-swT"
      },
      "source": [
        "Now we will view a snapshot of the top models. Here we should see the two Stacked Ensembles at or near the top of the leaderboard. Stacked Ensembles can almost always outperform a single model."
      ]
    },
    {
      "cell_type": "code",
      "metadata": {
        "colab": {
          "base_uri": "https://localhost:8080/",
          "height": 249
        },
        "id": "VQP7ueSm6-bl",
        "outputId": "f8ba1f3b-6ff1-463e-a377-b64465597f18"
      },
      "source": [
        "lb.head()"
      ],
      "execution_count": 176,
      "outputs": [
        {
          "output_type": "display_data",
          "data": {
            "text/html": [
              "<table>\n",
              "<thead>\n",
              "<tr><th>model_id                                           </th><th style=\"text-align: right;\">  mean_residual_deviance</th><th style=\"text-align: right;\">   rmse</th><th style=\"text-align: right;\">    mse</th><th style=\"text-align: right;\">     mae</th><th style=\"text-align: right;\">   rmsle</th></tr>\n",
              "</thead>\n",
              "<tbody>\n",
              "<tr><td>StackedEnsemble_AllModels_AutoML_20201225_220151   </td><td style=\"text-align: right;\">                 1.27277</td><td style=\"text-align: right;\">1.12817</td><td style=\"text-align: right;\">1.27277</td><td style=\"text-align: right;\">0.686102</td><td style=\"text-align: right;\">0.378027</td></tr>\n",
              "<tr><td>StackedEnsemble_BestOfFamily_AutoML_20201225_220151</td><td style=\"text-align: right;\">                 1.27361</td><td style=\"text-align: right;\">1.12854</td><td style=\"text-align: right;\">1.27361</td><td style=\"text-align: right;\">0.688502</td><td style=\"text-align: right;\">0.378363</td></tr>\n",
              "<tr><td>GBM_4_AutoML_20201225_220151                       </td><td style=\"text-align: right;\">                 1.27595</td><td style=\"text-align: right;\">1.12958</td><td style=\"text-align: right;\">1.27595</td><td style=\"text-align: right;\">0.688752</td><td style=\"text-align: right;\">0.37928 </td></tr>\n",
              "<tr><td>GBM_3_AutoML_20201225_220151                       </td><td style=\"text-align: right;\">                 1.28451</td><td style=\"text-align: right;\">1.13336</td><td style=\"text-align: right;\">1.28451</td><td style=\"text-align: right;\">0.697813</td><td style=\"text-align: right;\">0.380744</td></tr>\n",
              "<tr><td>GBM_2_AutoML_20201225_220151                       </td><td style=\"text-align: right;\">                 1.29137</td><td style=\"text-align: right;\">1.13638</td><td style=\"text-align: right;\">1.29137</td><td style=\"text-align: right;\">0.706251</td><td style=\"text-align: right;\">0.382088</td></tr>\n",
              "<tr><td>GBM_5_AutoML_20201225_220151                       </td><td style=\"text-align: right;\">                 1.29209</td><td style=\"text-align: right;\">1.1367 </td><td style=\"text-align: right;\">1.29209</td><td style=\"text-align: right;\">0.699647</td><td style=\"text-align: right;\">0.381512</td></tr>\n",
              "<tr><td>GBM_1_AutoML_20201225_220151                       </td><td style=\"text-align: right;\">                 1.29881</td><td style=\"text-align: right;\">1.13965</td><td style=\"text-align: right;\">1.29881</td><td style=\"text-align: right;\">0.71474 </td><td style=\"text-align: right;\">0.383193</td></tr>\n",
              "<tr><td>XGBoost_3_AutoML_20201225_220151                   </td><td style=\"text-align: right;\">                 1.29973</td><td style=\"text-align: right;\">1.14006</td><td style=\"text-align: right;\">1.29973</td><td style=\"text-align: right;\">0.713563</td><td style=\"text-align: right;\">0.381965</td></tr>\n",
              "<tr><td>XGBoost_1_AutoML_20201225_220151                   </td><td style=\"text-align: right;\">                 1.30942</td><td style=\"text-align: right;\">1.1443 </td><td style=\"text-align: right;\">1.30942</td><td style=\"text-align: right;\">0.697564</td><td style=\"text-align: right;\">0.380927</td></tr>\n",
              "<tr><td>DRF_1_AutoML_20201225_220151                       </td><td style=\"text-align: right;\">                 1.3597 </td><td style=\"text-align: right;\">1.16606</td><td style=\"text-align: right;\">1.3597 </td><td style=\"text-align: right;\">0.707533</td><td style=\"text-align: right;\">0.386322</td></tr>\n",
              "</tbody>\n",
              "</table>"
            ]
          },
          "metadata": {
            "tags": []
          }
        },
        {
          "output_type": "execute_result",
          "data": {
            "text/plain": [
              ""
            ]
          },
          "metadata": {
            "tags": []
          },
          "execution_count": 176
        }
      ]
    },
    {
      "cell_type": "code",
      "metadata": {
        "colab": {
          "base_uri": "https://localhost:8080/",
          "height": 291
        },
        "id": "MUFRcHqO6-fZ",
        "outputId": "74a8b123-5be4-4b4e-b284-9101afc3c9bb"
      },
      "source": [
        "lb.head(rows=lb.nrows)"
      ],
      "execution_count": 177,
      "outputs": [
        {
          "output_type": "display_data",
          "data": {
            "text/html": [
              "<table>\n",
              "<thead>\n",
              "<tr><th>model_id                                           </th><th style=\"text-align: right;\">  mean_residual_deviance</th><th style=\"text-align: right;\">   rmse</th><th style=\"text-align: right;\">    mse</th><th style=\"text-align: right;\">     mae</th><th style=\"text-align: right;\">   rmsle</th></tr>\n",
              "</thead>\n",
              "<tbody>\n",
              "<tr><td>StackedEnsemble_AllModels_AutoML_20201225_220151   </td><td style=\"text-align: right;\">                 1.27277</td><td style=\"text-align: right;\">1.12817</td><td style=\"text-align: right;\">1.27277</td><td style=\"text-align: right;\">0.686102</td><td style=\"text-align: right;\">0.378027</td></tr>\n",
              "<tr><td>StackedEnsemble_BestOfFamily_AutoML_20201225_220151</td><td style=\"text-align: right;\">                 1.27361</td><td style=\"text-align: right;\">1.12854</td><td style=\"text-align: right;\">1.27361</td><td style=\"text-align: right;\">0.688502</td><td style=\"text-align: right;\">0.378363</td></tr>\n",
              "<tr><td>GBM_4_AutoML_20201225_220151                       </td><td style=\"text-align: right;\">                 1.27595</td><td style=\"text-align: right;\">1.12958</td><td style=\"text-align: right;\">1.27595</td><td style=\"text-align: right;\">0.688752</td><td style=\"text-align: right;\">0.37928 </td></tr>\n",
              "<tr><td>GBM_3_AutoML_20201225_220151                       </td><td style=\"text-align: right;\">                 1.28451</td><td style=\"text-align: right;\">1.13336</td><td style=\"text-align: right;\">1.28451</td><td style=\"text-align: right;\">0.697813</td><td style=\"text-align: right;\">0.380744</td></tr>\n",
              "<tr><td>GBM_2_AutoML_20201225_220151                       </td><td style=\"text-align: right;\">                 1.29137</td><td style=\"text-align: right;\">1.13638</td><td style=\"text-align: right;\">1.29137</td><td style=\"text-align: right;\">0.706251</td><td style=\"text-align: right;\">0.382088</td></tr>\n",
              "<tr><td>GBM_5_AutoML_20201225_220151                       </td><td style=\"text-align: right;\">                 1.29209</td><td style=\"text-align: right;\">1.1367 </td><td style=\"text-align: right;\">1.29209</td><td style=\"text-align: right;\">0.699647</td><td style=\"text-align: right;\">0.381512</td></tr>\n",
              "<tr><td>GBM_1_AutoML_20201225_220151                       </td><td style=\"text-align: right;\">                 1.29881</td><td style=\"text-align: right;\">1.13965</td><td style=\"text-align: right;\">1.29881</td><td style=\"text-align: right;\">0.71474 </td><td style=\"text-align: right;\">0.383193</td></tr>\n",
              "<tr><td>XGBoost_3_AutoML_20201225_220151                   </td><td style=\"text-align: right;\">                 1.29973</td><td style=\"text-align: right;\">1.14006</td><td style=\"text-align: right;\">1.29973</td><td style=\"text-align: right;\">0.713563</td><td style=\"text-align: right;\">0.381965</td></tr>\n",
              "<tr><td>XGBoost_1_AutoML_20201225_220151                   </td><td style=\"text-align: right;\">                 1.30942</td><td style=\"text-align: right;\">1.1443 </td><td style=\"text-align: right;\">1.30942</td><td style=\"text-align: right;\">0.697564</td><td style=\"text-align: right;\">0.380927</td></tr>\n",
              "<tr><td>DRF_1_AutoML_20201225_220151                       </td><td style=\"text-align: right;\">                 1.3597 </td><td style=\"text-align: right;\">1.16606</td><td style=\"text-align: right;\">1.3597 </td><td style=\"text-align: right;\">0.707533</td><td style=\"text-align: right;\">0.386322</td></tr>\n",
              "<tr><td>XGBoost_2_AutoML_20201225_220151                   </td><td style=\"text-align: right;\">                 1.36375</td><td style=\"text-align: right;\">1.1678 </td><td style=\"text-align: right;\">1.36375</td><td style=\"text-align: right;\">0.714891</td><td style=\"text-align: right;\">0.384369</td></tr>\n",
              "<tr><td>GLM_1_AutoML_20201225_220151                       </td><td style=\"text-align: right;\">                 3.33023</td><td style=\"text-align: right;\">1.82489</td><td style=\"text-align: right;\">3.33023</td><td style=\"text-align: right;\">1.55983 </td><td style=\"text-align: right;\">0.602905</td></tr>\n",
              "</tbody>\n",
              "</table>"
            ]
          },
          "metadata": {
            "tags": []
          }
        },
        {
          "output_type": "execute_result",
          "data": {
            "text/plain": [
              ""
            ]
          },
          "metadata": {
            "tags": []
          },
          "execution_count": 177
        }
      ]
    },
    {
      "cell_type": "markdown",
      "metadata": {
        "id": "LvfnGzvj-vPH"
      },
      "source": [
        "Ensemble Exploration\n",
        "To understand how the ensemble works, let's take a peek inside the Stacked Ensemble \"All Models\" model. The \"All Models\" ensemble is an ensemble of all of the individual models in the AutoML run. This is often the top performing model on the leaderboard."
      ]
    },
    {
      "cell_type": "code",
      "metadata": {
        "colab": {
          "base_uri": "https://localhost:8080/"
        },
        "id": "1kPDy-UO6-jS",
        "outputId": "5b3e75fe-6909-4012-fa90-68983713dafc"
      },
      "source": [
        "# Get model ids for all models in the AutoML Leaderboard\n",
        "model_ids = list(aml.leaderboard['model_id'].as_data_frame().iloc[:,0])\n",
        "# Get the \"All Models\" Stacked Ensemble model\n",
        "se = h2o.get_model([mid for mid in model_ids if \"StackedEnsemble_AllModels\" in mid][0])\n",
        "# Get the Stacked Ensemble metalearner model\n",
        "metalearner = h2o.get_model(se.metalearner()['name'])"
      ],
      "execution_count": 178,
      "outputs": [
        {
          "output_type": "stream",
          "text": [
            "/usr/local/lib/python3.6/dist-packages/h2o/estimators/stackedensemble.py:804: H2ODeprecationWarning: The usage of stacked_ensemble.metalearner()['name'] will be deprecated. Metalearner now returns the metalearner object. If you need to get the 'name' please use stacked_ensemble.metalearner().model_id\n",
            "  H2ODeprecationWarning\n"
          ],
          "name": "stderr"
        }
      ]
    },
    {
      "cell_type": "markdown",
      "metadata": {
        "id": "kCYBvrNJ-0PV"
      },
      "source": [
        "Examine the variable importance of the metalearner (combiner) algorithm in the ensemble. This shows us how much each base learner is contributing to the ensemble. The AutoML Stacked Ensembles use the default metalearner algorithm (GLM with non-negative weights), so the variable importance of the metalearner is actually the standardized coefficient magnitudes of the GLM."
      ]
    },
    {
      "cell_type": "code",
      "metadata": {
        "colab": {
          "base_uri": "https://localhost:8080/"
        },
        "id": "u95Xroq06-mo",
        "outputId": "360f0658-1751-4bb8-a52a-517d3c9f7e6d"
      },
      "source": [
        "metalearner.coef_norm()"
      ],
      "execution_count": 179,
      "outputs": [
        {
          "output_type": "execute_result",
          "data": {
            "text/plain": [
              "{'DRF_1_AutoML_20201225_220151': 0.0,\n",
              " 'GBM_1_AutoML_20201225_220151': 0.014277098051936945,\n",
              " 'GBM_2_AutoML_20201225_220151': 0.04409621373137883,\n",
              " 'GBM_3_AutoML_20201225_220151': 0.2534742278276547,\n",
              " 'GBM_4_AutoML_20201225_220151': 1.0870361232963655,\n",
              " 'GBM_5_AutoML_20201225_220151': 0.06434046360356759,\n",
              " 'GLM_1_AutoML_20201225_220151': 0.0,\n",
              " 'Intercept': 3.488370854720731,\n",
              " 'XGBoost_1_AutoML_20201225_220151': 0.027644192630929595,\n",
              " 'XGBoost_2_AutoML_20201225_220151': 0.05983985317249205,\n",
              " 'XGBoost_3_AutoML_20201225_220151': 0.09820319261692446}"
            ]
          },
          "metadata": {
            "tags": []
          },
          "execution_count": 179
        }
      ]
    },
    {
      "cell_type": "markdown",
      "metadata": {
        "id": "oCP7ys3H-8v5"
      },
      "source": [
        "We can also plot the base learner contributions to the ensemble."
      ]
    },
    {
      "cell_type": "code",
      "metadata": {
        "colab": {
          "base_uri": "https://localhost:8080/",
          "height": 612
        },
        "id": "0NdyoHNq6-po",
        "outputId": "b8ef1726-c71a-4a4e-9c97-2891ee80e784"
      },
      "source": [
        "%matplotlib inline\n",
        "metalearner.std_coef_plot()"
      ],
      "execution_count": 180,
      "outputs": [
        {
          "output_type": "display_data",
          "data": {
            "image/png": "[encoded data removed]",
            "text/plain": [
              "<Figure size 1008x720 with 1 Axes>"
            ]
          },
          "metadata": {
            "tags": [],
            "needs_background": "light"
          }
        }
      ]
    },
    {
      "cell_type": "markdown",
      "metadata": {
        "id": "_GGqYP20_D2Y"
      },
      "source": [
        "Save Leader Model\n",
        "There are two ways to save the leader model -- binary format and MOJO format. If you're taking your leader model to production, then we'd suggest the MOJO format since it's optimized for production use."
      ]
    },
    {
      "cell_type": "code",
      "metadata": {
        "colab": {
          "base_uri": "https://localhost:8080/",
          "height": 35
        },
        "id": "M5CX0mOB6-tp",
        "outputId": "48fb281c-f9e3-463e-f250-038d097d5770"
      },
      "source": [
        "h2o.save_model(aml.leader, path = \"./product_backorders_model_bin\")"
      ],
      "execution_count": 181,
      "outputs": [
        {
          "output_type": "execute_result",
          "data": {
            "application/vnd.google.colaboratory.intrinsic+json": {
              "type": "string"
            },
            "text/plain": [
              "'/content/product_backorders_model_bin/StackedEnsemble_AllModels_AutoML_20201225_220151'"
            ]
          },
          "metadata": {
            "tags": []
          },
          "execution_count": 181
        }
      ]
    },
    {
      "cell_type": "code",
      "metadata": {
        "colab": {
          "base_uri": "https://localhost:8080/",
          "height": 35
        },
        "id": "E0_JFVl6_OgZ",
        "outputId": "08e6b8c2-4412-4622-e735-e6c1a69b3211"
      },
      "source": [
        "aml.leader.download_mojo(path = \"./\")"
      ],
      "execution_count": 182,
      "outputs": [
        {
          "output_type": "execute_result",
          "data": {
            "application/vnd.google.colaboratory.intrinsic+json": {
              "type": "string"
            },
            "text/plain": [
              "'/content/StackedEnsemble_AllModels_AutoML_20201225_220151.zip'"
            ]
          },
          "metadata": {
            "tags": []
          },
          "execution_count": 182
        }
      ]
    }
  ]
}